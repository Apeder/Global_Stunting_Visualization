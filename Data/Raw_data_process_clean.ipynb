{
 "cells": [
  {
   "cell_type": "code",
   "execution_count": 1,
   "metadata": {
    "collapsed": false
   },
   "outputs": [
    {
     "ename": "ImportError",
     "evalue": "No module named 'pandas'",
     "output_type": "error",
     "traceback": [
      "\u001b[0;31m---------------------------------------------------------------------------\u001b[0m",
      "\u001b[0;31mImportError\u001b[0m                               Traceback (most recent call last)",
      "\u001b[0;32m<ipython-input-1-3cd4279f4dc2>\u001b[0m in \u001b[0;36m<module>\u001b[0;34m()\u001b[0m\n\u001b[0;32m----> 1\u001b[0;31m \u001b[0;32mimport\u001b[0m \u001b[0mpandas\u001b[0m \u001b[0;32mas\u001b[0m \u001b[0mpd\u001b[0m\u001b[0;34m\u001b[0m\u001b[0m\n\u001b[0m\u001b[1;32m      2\u001b[0m \u001b[0;34m\u001b[0m\u001b[0m\n\u001b[1;32m      3\u001b[0m \u001b[0;31m# Unicef May 2016 stunting disparity: Stunting prevalence in children under 5 (%) by area of residence\u001b[0m\u001b[0;34m\u001b[0m\u001b[0;34m\u001b[0m\u001b[0m\n\u001b[1;32m      4\u001b[0m \u001b[0;31m# and wealth quintile, 2009–2015\u001b[0m\u001b[0;34m\u001b[0m\u001b[0;34m\u001b[0m\u001b[0m\n\u001b[1;32m      5\u001b[0m \u001b[0;34m\u001b[0m\u001b[0m\n",
      "\u001b[0;31mImportError\u001b[0m: No module named 'pandas'"
     ]
    }
   ],
   "source": [
    "import pandas as pd\n",
    "\n",
    "# Unicef May 2016 stunting disparity: Stunting prevalence in children under 5 (%) by area of residence \n",
    "# and wealth quintile, 2009–2015\n",
    "\n",
    "cols = ['ISO_country', 'Country', 'Urban', 'Rural', 'UR_Ratio', 'S_Year', 'Source', 'Wealth_quant_1', 'Wealth_quant_5', \n",
    "        'WQ_Ratio', 'WQ_Year', 'WQ_source']\n",
    "\n",
    "parse = \"A:C,E,G,I:J,L:M,O,Q:R\"\n",
    "\n",
    "stunting_data_raw = pd.read_excel('./Stunting Disparities_May 2016_1235839.xlsx', skiprows=7, skip_footer=17, \n",
    "                                  names=cols, parse_cols=parse, index_col=None)\n"
   ]
  },
  {
   "cell_type": "code",
   "execution_count": 34,
   "metadata": {
    "collapsed": false
   },
   "outputs": [],
   "source": [
    "# Severe Wasting: Percentage of children aged 0–59 months who are below minus three standard deviations from median weight-for-height of the WHO Child Growth Standards.\n",
    "# Wasting – Moderate and severe: Percentage of children aged 0–59 months who are below minus two standard deviations from median weight-for-height of the WHO Child Growth Standards.\n",
    "# Overweight – Moderate and severe: Percentage of children aged 0-59 months who are above two standard deviations from median weight-for-height of the WHO Child Growth Standards. \n",
    "# Stunting – Moderate and severe: Percentage of children aged 0–59 months who are below minus two standard deviations from median height-for-age of the WHO Child Growth Standards.\n",
    "# Underweight – Moderate and severe: Percentage of children aged 0–59 months who are below minus two standard deviations from median weight-for-age of the World Health Organization (WHO) Child Growth Standards.\n",
    "\n",
    "m_names=['ISO_country', 'country_name', 'Year','WB_income_region','sample_size', 'severe_wasting', 'wasting', 'overweight', 'stunting', 'underweight', \n",
    "      'notes', 'author', 'source', 'under_5_pop']\n",
    "\n",
    "m_parse = \"A,B,D,J,M:V\"\n",
    "\n",
    "malnutrition_data_raw = pd.read_excel('./jme_master_2015_127fcff.xlsx', parse_cols=m_parse, names=m_names, skiprows=14, \n",
    "                                     index_col=None)\n"
   ]
  },
  {
   "cell_type": "code",
   "execution_count": 35,
   "metadata": {
    "collapsed": false
   },
   "outputs": [
    {
     "data": {
      "text/html": [
       "<div>\n",
       "<table border=\"1\" class=\"dataframe\">\n",
       "  <thead>\n",
       "    <tr style=\"text-align: right;\">\n",
       "      <th></th>\n",
       "      <th>ISO_country</th>\n",
       "      <th>country_name</th>\n",
       "      <th>Year</th>\n",
       "      <th>WB_income_region</th>\n",
       "      <th>sample_size</th>\n",
       "      <th>severe_wasting</th>\n",
       "      <th>wasting</th>\n",
       "      <th>overweight</th>\n",
       "      <th>stunting</th>\n",
       "      <th>underweight</th>\n",
       "      <th>notes</th>\n",
       "      <th>author</th>\n",
       "      <th>source</th>\n",
       "      <th>under_5_pop</th>\n",
       "    </tr>\n",
       "  </thead>\n",
       "  <tbody>\n",
       "    <tr>\n",
       "      <th>0</th>\n",
       "      <td>AFG</td>\n",
       "      <td>AFGHANISTAN</td>\n",
       "      <td>1997</td>\n",
       "      <td>Low income</td>\n",
       "      <td>4846</td>\n",
       "      <td>NaN</td>\n",
       "      <td>18.2</td>\n",
       "      <td>6.5</td>\n",
       "      <td>53.2</td>\n",
       "      <td>44.9</td>\n",
       "      <td>Converted estimates</td>\n",
       "      <td>NaN</td>\n",
       "      <td>Afghanistan 1997 multiple indicator baseline (...</td>\n",
       "      <td>3567.351</td>\n",
       "    </tr>\n",
       "    <tr>\n",
       "      <th>1</th>\n",
       "      <td>AFG</td>\n",
       "      <td>AFGHANISTAN</td>\n",
       "      <td>2004</td>\n",
       "      <td>Low income</td>\n",
       "      <td>946</td>\n",
       "      <td>3.5</td>\n",
       "      <td>8.6</td>\n",
       "      <td>4.6</td>\n",
       "      <td>59.3</td>\n",
       "      <td>32.9</td>\n",
       "      <td>NaN</td>\n",
       "      <td>Ministry of Public Health (Afghanistan), UNICE...</td>\n",
       "      <td>Summary report of the national nutrition surve...</td>\n",
       "      <td>4551.391</td>\n",
       "    </tr>\n",
       "    <tr>\n",
       "      <th>2</th>\n",
       "      <td>AFG</td>\n",
       "      <td>AFGHANISTAN</td>\n",
       "      <td>2013</td>\n",
       "      <td>Low income</td>\n",
       "      <td>21922</td>\n",
       "      <td>4.0</td>\n",
       "      <td>9.5</td>\n",
       "      <td>5.4</td>\n",
       "      <td>40.9</td>\n",
       "      <td>25.0</td>\n",
       "      <td>(pending reanalysis)</td>\n",
       "      <td>Ministry of Public Health, UNICEF and the Aga ...</td>\n",
       "      <td>Afghanistan National Nutrition Survey 2013.</td>\n",
       "      <td>4993.944</td>\n",
       "    </tr>\n",
       "    <tr>\n",
       "      <th>3</th>\n",
       "      <td>ALB</td>\n",
       "      <td>ALBANIA</td>\n",
       "      <td>1997</td>\n",
       "      <td>Upper middle income</td>\n",
       "      <td>7642</td>\n",
       "      <td>NaN</td>\n",
       "      <td>8.1</td>\n",
       "      <td>9.5</td>\n",
       "      <td>20.4</td>\n",
       "      <td>7.1</td>\n",
       "      <td>Converted estimates</td>\n",
       "      <td>NaN</td>\n",
       "      <td>National study on nutrition in Albania. Instit...</td>\n",
       "      <td>307.871</td>\n",
       "    </tr>\n",
       "    <tr>\n",
       "      <th>4</th>\n",
       "      <td>ALB</td>\n",
       "      <td>ALBANIA</td>\n",
       "      <td>2000</td>\n",
       "      <td>Upper middle income</td>\n",
       "      <td>1385</td>\n",
       "      <td>6.2</td>\n",
       "      <td>12.2</td>\n",
       "      <td>30.0</td>\n",
       "      <td>39.2</td>\n",
       "      <td>17.0</td>\n",
       "      <td>NaN</td>\n",
       "      <td>National Institute of Statistics (Albania) and...</td>\n",
       "      <td>Multiple indicator cluster survey report Alban...</td>\n",
       "      <td>278.754</td>\n",
       "    </tr>\n",
       "  </tbody>\n",
       "</table>\n",
       "</div>"
      ],
      "text/plain": [
       "  ISO_country country_name  Year     WB_income_region  sample_size  \\\n",
       "0         AFG  AFGHANISTAN  1997           Low income         4846   \n",
       "1         AFG  AFGHANISTAN  2004           Low income          946   \n",
       "2         AFG  AFGHANISTAN  2013           Low income        21922   \n",
       "3         ALB      ALBANIA  1997  Upper middle income         7642   \n",
       "4         ALB      ALBANIA  2000  Upper middle income         1385   \n",
       "\n",
       "   severe_wasting  wasting  overweight  stunting  underweight  \\\n",
       "0             NaN     18.2         6.5      53.2         44.9   \n",
       "1             3.5      8.6         4.6      59.3         32.9   \n",
       "2             4.0      9.5         5.4      40.9         25.0   \n",
       "3             NaN      8.1         9.5      20.4          7.1   \n",
       "4             6.2     12.2        30.0      39.2         17.0   \n",
       "\n",
       "                  notes                                             author  \\\n",
       "0   Converted estimates                                                NaN   \n",
       "1                   NaN  Ministry of Public Health (Afghanistan), UNICE...   \n",
       "2  (pending reanalysis)  Ministry of Public Health, UNICEF and the Aga ...   \n",
       "3   Converted estimates                                                NaN   \n",
       "4                   NaN  National Institute of Statistics (Albania) and...   \n",
       "\n",
       "                                              source  under_5_pop  \n",
       "0  Afghanistan 1997 multiple indicator baseline (...     3567.351  \n",
       "1  Summary report of the national nutrition surve...     4551.391  \n",
       "2        Afghanistan National Nutrition Survey 2013.     4993.944  \n",
       "3  National study on nutrition in Albania. Instit...      307.871  \n",
       "4  Multiple indicator cluster survey report Alban...      278.754  "
      ]
     },
     "execution_count": 35,
     "metadata": {},
     "output_type": "execute_result"
    }
   ],
   "source": [
    "malnutrition_data_raw[0:5]"
   ]
  },
  {
   "cell_type": "code",
   "execution_count": 30,
   "metadata": {
    "collapsed": false
   },
   "outputs": [
    {
     "data": {
      "text/html": [
       "<div>\n",
       "<table border=\"1\" class=\"dataframe\">\n",
       "  <thead>\n",
       "    <tr style=\"text-align: right;\">\n",
       "      <th></th>\n",
       "      <th>ISO_country</th>\n",
       "      <th>Country</th>\n",
       "      <th>Urban</th>\n",
       "      <th>Rural</th>\n",
       "      <th>UR_Ratio</th>\n",
       "      <th>S_Year</th>\n",
       "      <th>Source</th>\n",
       "      <th>Wealth_quant_1</th>\n",
       "      <th>Wealth_quant_5</th>\n",
       "      <th>WQ_Ratio</th>\n",
       "      <th>WQ_Year</th>\n",
       "      <th>WQ_source</th>\n",
       "    </tr>\n",
       "  </thead>\n",
       "  <tbody>\n",
       "    <tr>\n",
       "      <th>0</th>\n",
       "      <td>AFG</td>\n",
       "      <td>Afghanistan</td>\n",
       "      <td>NaN</td>\n",
       "      <td>NaN</td>\n",
       "      <td>NaN</td>\n",
       "      <td>NaN</td>\n",
       "      <td>NaN</td>\n",
       "      <td>49.4</td>\n",
       "      <td>31.1</td>\n",
       "      <td>1.588424</td>\n",
       "      <td>2013</td>\n",
       "      <td>Other NS 2013</td>\n",
       "    </tr>\n",
       "    <tr>\n",
       "      <th>1</th>\n",
       "      <td>ALB</td>\n",
       "      <td>Albania</td>\n",
       "      <td>20.0</td>\n",
       "      <td>19.0</td>\n",
       "      <td>0.950000</td>\n",
       "      <td>2008–09</td>\n",
       "      <td>DHS, 2008–2009</td>\n",
       "      <td>27.0</td>\n",
       "      <td>13.0</td>\n",
       "      <td>2.076923</td>\n",
       "      <td>2008–09</td>\n",
       "      <td>DHS, 2008–2009</td>\n",
       "    </tr>\n",
       "    <tr>\n",
       "      <th>2</th>\n",
       "      <td>DZA</td>\n",
       "      <td>Algeria</td>\n",
       "      <td>11.3</td>\n",
       "      <td>12.3</td>\n",
       "      <td>1.088496</td>\n",
       "      <td>2012-13</td>\n",
       "      <td>MICS, 2012-13</td>\n",
       "      <td>12.6</td>\n",
       "      <td>10.6</td>\n",
       "      <td>1.188679</td>\n",
       "      <td>2012-13</td>\n",
       "      <td>MICS, 2012-13</td>\n",
       "    </tr>\n",
       "    <tr>\n",
       "      <th>3</th>\n",
       "      <td>AND</td>\n",
       "      <td>Andorra</td>\n",
       "      <td>NaN</td>\n",
       "      <td>NaN</td>\n",
       "      <td>NaN</td>\n",
       "      <td>NaN</td>\n",
       "      <td>NaN</td>\n",
       "      <td>NaN</td>\n",
       "      <td>NaN</td>\n",
       "      <td>NaN</td>\n",
       "      <td>NaN</td>\n",
       "      <td>NaN</td>\n",
       "    </tr>\n",
       "    <tr>\n",
       "      <th>4</th>\n",
       "      <td>AGO</td>\n",
       "      <td>Angola</td>\n",
       "      <td>30.1</td>\n",
       "      <td>33.0</td>\n",
       "      <td>1.096346</td>\n",
       "      <td>2007</td>\n",
       "      <td>Other NS, 2007</td>\n",
       "      <td>NaN</td>\n",
       "      <td>NaN</td>\n",
       "      <td>NaN</td>\n",
       "      <td>NaN</td>\n",
       "      <td>NaN</td>\n",
       "    </tr>\n",
       "  </tbody>\n",
       "</table>\n",
       "</div>"
      ],
      "text/plain": [
       "  ISO_country      Country  Urban  Rural  UR_Ratio   S_Year          Source  \\\n",
       "0         AFG  Afghanistan    NaN    NaN       NaN      NaN             NaN   \n",
       "1         ALB      Albania   20.0   19.0  0.950000  2008–09  DHS, 2008–2009   \n",
       "2         DZA      Algeria   11.3   12.3  1.088496  2012-13   MICS, 2012-13   \n",
       "3         AND      Andorra    NaN    NaN       NaN      NaN             NaN   \n",
       "4         AGO       Angola   30.1   33.0  1.096346     2007  Other NS, 2007   \n",
       "\n",
       "   Wealth_quant_1  Wealth_quant_5  WQ_Ratio  WQ_Year       WQ_source  \n",
       "0            49.4            31.1  1.588424     2013   Other NS 2013  \n",
       "1            27.0            13.0  2.076923  2008–09  DHS, 2008–2009  \n",
       "2            12.6            10.6  1.188679  2012-13   MICS, 2012-13  \n",
       "3             NaN             NaN       NaN      NaN             NaN  \n",
       "4             NaN             NaN       NaN      NaN             NaN  "
      ]
     },
     "execution_count": 30,
     "metadata": {},
     "output_type": "execute_result"
    }
   ],
   "source": [
    "stunting_data_raw[0:5]"
   ]
  },
  {
   "cell_type": "code",
   "execution_count": 32,
   "metadata": {
    "collapsed": false
   },
   "outputs": [],
   "source": [
    "stunting_data_raw.to_csv('./clean_analysis/UNICEF_stunting_disparities_May_2016.csv')"
   ]
  },
  {
   "cell_type": "code",
   "execution_count": 36,
   "metadata": {
    "collapsed": true
   },
   "outputs": [],
   "source": [
    "malnutrition_data_raw.to_csv('./clean_analysis/UNICEF_child_malnutrition_Sept_2015.csv')"
   ]
  },
  {
   "cell_type": "code",
   "execution_count": null,
   "metadata": {
    "collapsed": true
   },
   "outputs": [],
   "source": [
    "malnutrition_data_raw.to_json('./clean_analysis/UNICEF_child_malnutrition_Sept_2015.json')"
   ]
  }
 ],
 "metadata": {
  "kernelspec": {
   "display_name": "Python 3",
   "language": "python",
   "name": "python3"
  },
  "language_info": {
   "codemirror_mode": {
    "name": "ipython",
    "version": 3
   },
   "file_extension": ".py",
   "mimetype": "text/x-python",
   "name": "python",
   "nbconvert_exporter": "python",
   "pygments_lexer": "ipython3",
   "version": "3.5.2"
  }
 },
 "nbformat": 4,
 "nbformat_minor": 0
}
