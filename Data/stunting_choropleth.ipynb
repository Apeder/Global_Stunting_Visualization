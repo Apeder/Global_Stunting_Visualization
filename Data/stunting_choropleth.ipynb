{
 "cells": [
  {
   "cell_type": "code",
   "execution_count": 1,
   "metadata": {
    "collapsed": true
   },
   "outputs": [],
   "source": [
    "#http://rmaps.github.io/blog/posts/animated-choropleths/\n",
    "malnutrition_data_raw <- read.csv('./clean_analysis/UNICEF_child_malnutrition_Sept_2015.csv')"
   ]
  },
  {
   "cell_type": "code",
   "execution_count": 2,
   "metadata": {
    "collapsed": false
   },
   "outputs": [
    {
     "data": {
      "text/plain": [
       "       X          ISO_country                              country_name\n",
       " Min.   :  0.0   BGD    : 23   BANGLADESH                        : 23  \n",
       " 1st Qu.:194.2   VEN    : 21   VENEZUELA (BOLIVARIAN REPUBLIC OF): 21  \n",
       " Median :388.5   JAM    : 19   JAMAICA                           : 19  \n",
       " Mean   :388.5   VNM    : 16   VIET NAM                          : 16  \n",
       " 3rd Qu.:582.8   CHL    : 15   CHILE                             : 15  \n",
       " Max.   :777.0   IDN    : 15   INDONESIA                         : 15  \n",
       "                 (Other):669   (Other)                           :669  \n",
       "      Year                  WB_income_region  sample_size      severe_wasting \n",
       " Min.   :1983                       :  1     Min.   :    267   Min.   : 0.00  \n",
       " 1st Qu.:1995   High income: nonOECD: 66     1st Qu.:   2600   1st Qu.: 0.80  \n",
       " Median :2002   High income: OECD   : 29     Median :   4638   Median : 1.80  \n",
       " Mean   :2002   Low income          :169     Mean   :  90294   Mean   : 2.41  \n",
       " 3rd Qu.:2008   Lower middle income :306     3rd Qu.:  10225   3rd Qu.: 3.20  \n",
       " Max.   :2015   Upper middle income :207     Max.   :9999999   Max.   :15.90  \n",
       "                                             NA's   :38        NA's   :231    \n",
       "    wasting        overweight        stunting      underweight   \n",
       " Min.   : 0.00   Min.   : 0.000   Min.   : 0.00   Min.   : 0.00  \n",
       " 1st Qu.: 3.00   1st Qu.: 3.200   1st Qu.:17.38   1st Qu.: 4.80  \n",
       " Median : 6.00   Median : 5.800   Median :29.90   Median :13.35  \n",
       " Mean   : 7.24   Mean   : 6.696   Mean   :29.91   Mean   :16.23  \n",
       " 3rd Qu.:10.20   3rd Qu.: 9.000   3rd Qu.:41.50   3rd Qu.:23.82  \n",
       " Max.   :26.00   Max.   :30.000   Max.   :73.60   Max.   :66.80  \n",
       " NA's   :44      NA's   :151      NA's   :34      NA's   :14     \n",
       "                                          notes    \n",
       "                                             :446  \n",
       " Converted estimates                         :144  \n",
       " Age-adjusted;                               : 41  \n",
       " (pending reanalysis)                        : 35  \n",
       "  Adjusted NR to NA; nutritional surveillance: 13  \n",
       " Age-adjusted; converted estimates           : 13  \n",
       " (Other)                                     : 86  \n",
       "                                                       author   \n",
       "                                                          : 95  \n",
       " Ministry of Health.                                      : 24  \n",
       " Ministerio de Salud.                                     : 15  \n",
       " Helen Keller International (HKI) Bangladesh.             : 12  \n",
       " Oficina SISVAN.                                          : 11  \n",
       " Administration of Food and Nutrition, Ministry of Health.:  9  \n",
       " (Other)                                                  :612  \n",
       "                                                                                                                                                                                                                                                source   \n",
       " Annual national nutrition monitoring. Nutrition Surveillance Department. Hanoi, Vietnam: National Institute of Nutrition, 2009 (and additional analysis).                                                                                         :  8  \n",
       " Ficha técnica: Evaluación antropométrica nutricional en menores de 5 años según criterios internacionales. Caracas, Venezuela: Gobierno Bolivariano de Venezuela, Ministerio del Poder Popular para la Salud, INN, 2012 (and additional analysis).:  8  \n",
       " Kuwait nutrition surveillance system, 2005 report: 2001-2005 trends. Kuwait, State of Kuwait: Administration of Food and Nutrition, Ministry of Health, 2006 (and additional analysis).                                                           :  5  \n",
       " Analisis del estado nutricional de la poblacion Costarricense 1992. Departamento de Nutricion y Atencion Integral, Seccion Vigilancia Nutricional. San Jose, Costa Rica, 1994 (and additional analysis).                                          :  4  \n",
       " Annual reports, 1990-1993. Family Health Information System. Information and Documentation Unit. Kuala Lumpur, Malaysia, 1994 (and additional analysis).                                                                                          :  4  \n",
       " Kuwait nutrition surveillance system: 2006-2009 trends. Kuwait, State of Kuwait: Administration of Food and Nutrition, Ministry of Health, 2010 (and additional analysis).                                                                        :  4  \n",
       " (Other)                                                                                                                                                                                                                                           :745  \n",
       "  under_5_pop      \n",
       " Min.   :     1.0  \n",
       " 1st Qu.:   450.4  \n",
       " Median :  1698.0  \n",
       " Mean   :  6106.9  \n",
       " 3rd Qu.:  4159.5  \n",
       " Max.   :133332.7  \n",
       "                   "
      ]
     },
     "execution_count": 2,
     "metadata": {},
     "output_type": "execute_result"
    }
   ],
   "source": [
    "# Distributions would look good as violin plots using ggplot2 - regional aggregrates\n",
    "summary(malnutrition_data_raw)"
   ]
  },
  {
   "cell_type": "code",
   "execution_count": 3,
   "metadata": {
    "collapsed": false
   },
   "outputs": [
    {
     "data": {
      "text/html": [
       "<table>\n",
       "<thead><tr><th></th><th scope=col>Year</th><th scope=col>ISO_country</th><th scope=col>stunting</th></tr></thead>\n",
       "<tbody>\n",
       "\t<tr><th scope=row>1</th><td>1997</td><td>AFG </td><td>53.2</td></tr>\n",
       "\t<tr><th scope=row>2</th><td>2004</td><td>AFG </td><td>59.3</td></tr>\n",
       "\t<tr><th scope=row>3</th><td>2013</td><td>AFG </td><td>40.9</td></tr>\n",
       "\t<tr><th scope=row>4</th><td>1997</td><td>ALB </td><td>20.4</td></tr>\n",
       "\t<tr><th scope=row>5</th><td>2000</td><td>ALB </td><td>39.2</td></tr>\n",
       "\t<tr><th scope=row>6</th><td>2005</td><td>ALB </td><td>27  </td></tr>\n",
       "</tbody>\n",
       "</table>\n"
      ],
      "text/latex": [
       "\\begin{tabular}{r|lll}\n",
       "  & Year & ISO\\_country & stunting\\\\\n",
       "\\hline\n",
       "\t1 & 1997 & AFG  & 53.2\\\\\n",
       "\t2 & 2004 & AFG  & 59.3\\\\\n",
       "\t3 & 2013 & AFG  & 40.9\\\\\n",
       "\t4 & 1997 & ALB  & 20.4\\\\\n",
       "\t5 & 2000 & ALB  & 39.2\\\\\n",
       "\t6 & 2005 & ALB  & 27  \\\\\n",
       "\\end{tabular}\n"
      ],
      "text/plain": [
       "  Year ISO_country stunting\n",
       "1 1997         AFG     53.2\n",
       "2 2004         AFG     59.3\n",
       "3 2013         AFG     40.9\n",
       "4 1997         ALB     20.4\n",
       "5 2000         ALB     39.2\n",
       "6 2005         ALB     27.0"
      ]
     },
     "execution_count": 3,
     "metadata": {},
     "output_type": "execute_result"
    }
   ],
   "source": [
    "long_dat <- malnutrition_data_raw[,c('Year', 'ISO_country', 'stunting')]\n",
    "\n",
    "clean_dat <- na.omit(long_dat)\n",
    "\n",
    "clean_dat$Year <- as.numeric(clean_dat$Year)\n",
    "\n",
    "# clean_dat$Year <- strptime(clean_dat$Year, \"%Y\")\n",
    "# clean_dat$Year <- as.POSIXct(clean_dat$Year)\n",
    "\n",
    "clean_dat$ISO_country <- as.character(clean_dat$ISO_country)\n",
    "\n",
    "head(clean_dat)"
   ]
  },
  {
   "cell_type": "code",
   "execution_count": 4,
   "metadata": {
    "collapsed": false
   },
   "outputs": [
    {
     "name": "stdout",
     "output_type": "stream",
     "text": [
      "'data.frame':\t744 obs. of  3 variables:\n",
      " $ Year       : num  1997 2004 2013 1997 2000 ...\n",
      " $ ISO_country: chr  \"AFG\" \"AFG\" \"AFG\" \"ALB\" ...\n",
      " $ stunting   : num  53.2 59.3 40.9 20.4 39.2 27 23.1 16.9 22.9 22.5 ...\n",
      " - attr(*, \"na.action\")=Class 'omit'  Named int [1:34] 58 69 71 72 73 87 116 164 165 166 ...\n",
      "  .. ..- attr(*, \"names\")= chr [1:34] \"58\" \"69\" \"71\" \"72\" ...\n"
     ]
    }
   ],
   "source": [
    "str(clean_dat)"
   ]
  },
  {
   "cell_type": "code",
   "execution_count": 5,
   "metadata": {
    "collapsed": false
   },
   "outputs": [],
   "source": [
    "#Discretize the data by cutting into sextiles. \n",
    "clean_dat_disc <- transform(clean_dat, \n",
    "                            fillKey = cut(stunting, quantile(stunting, seq(0,1,1/5)), \n",
    "                                                     labels=LETTERS[1:5]))"
   ]
  },
  {
   "cell_type": "code",
   "execution_count": 6,
   "metadata": {
    "collapsed": false
   },
   "outputs": [
    {
     "data": {
      "text/html": [
       "<table>\n",
       "<thead><tr><th></th><th scope=col>Year</th><th scope=col>ISO_country</th><th scope=col>stunting</th><th scope=col>fillKey</th></tr></thead>\n",
       "<tbody>\n",
       "\t<tr><th scope=row>1</th><td>1997</td><td>AFG </td><td>53.2</td><td>E   </td></tr>\n",
       "\t<tr><th scope=row>2</th><td>2004</td><td>AFG </td><td>59.3</td><td>E   </td></tr>\n",
       "\t<tr><th scope=row>3</th><td>2013</td><td>AFG </td><td>40.9</td><td>D   </td></tr>\n",
       "\t<tr><th scope=row>4</th><td>1997</td><td>ALB </td><td>20.4</td><td>B   </td></tr>\n",
       "\t<tr><th scope=row>5</th><td>2000</td><td>ALB </td><td>39.2</td><td>D   </td></tr>\n",
       "\t<tr><th scope=row>6</th><td>2005</td><td>ALB </td><td>27  </td><td>C   </td></tr>\n",
       "</tbody>\n",
       "</table>\n"
      ],
      "text/latex": [
       "\\begin{tabular}{r|llll}\n",
       "  & Year & ISO\\_country & stunting & fillKey\\\\\n",
       "\\hline\n",
       "\t1 & 1997 & AFG  & 53.2 & E   \\\\\n",
       "\t2 & 2004 & AFG  & 59.3 & E   \\\\\n",
       "\t3 & 2013 & AFG  & 40.9 & D   \\\\\n",
       "\t4 & 1997 & ALB  & 20.4 & B   \\\\\n",
       "\t5 & 2000 & ALB  & 39.2 & D   \\\\\n",
       "\t6 & 2005 & ALB  & 27   & C   \\\\\n",
       "\\end{tabular}\n"
      ],
      "text/plain": [
       "  Year ISO_country stunting fillKey\n",
       "1 1997         AFG     53.2       E\n",
       "2 2004         AFG     59.3       E\n",
       "3 2013         AFG     40.9       D\n",
       "4 1997         ALB     20.4       B\n",
       "5 2000         ALB     39.2       D\n",
       "6 2005         ALB     27.0       C"
      ]
     },
     "execution_count": 6,
     "metadata": {},
     "output_type": "execute_result"
    }
   ],
   "source": [
    "head(clean_dat_disc)"
   ]
  },
  {
   "cell_type": "code",
   "execution_count": 7,
   "metadata": {
    "collapsed": true
   },
   "outputs": [],
   "source": [
    "fills = setNames(\n",
    "    c(RColorBrewer::brewer.pal(5, 'YlOrRd'), 'white'), c(LETTERS[1:5], 'defaultFill')\n",
    ")"
   ]
  },
  {
   "cell_type": "code",
   "execution_count": 17,
   "metadata": {
    "collapsed": false
   },
   "outputs": [],
   "source": [
    "library(plyr)\n",
    "library(rMaps)\n",
    "\n",
    "clean_dat_disp <- dlply(na.omit(clean_dat_disc), \"Year\", function(x){\n",
    "    y=toJSONArray2(x, json=F)\n",
    "    names(y)=lapply(y, '[[', 'ISO_country')\n",
    "    return(y)\n",
    "})"
   ]
  },
  {
   "cell_type": "code",
   "execution_count": 12,
   "metadata": {
    "collapsed": true
   },
   "outputs": [],
   "source": [
    "map2=map$copy()\n",
    "map2$set(\n",
    "    bodyattr=\"ng-app ng-controller='rChartsCtrl'\"\n",
    ")\n",
    "map2$addAssets(\n",
    "    jshead=\"http://cdnjs.cloudflare.com/ajax/libs/angular.js/1.2.1/angular.min.js\"\n",
    ")"
   ]
  },
  {
   "cell_type": "code",
   "execution_count": 13,
   "metadata": {
    "collapsed": true
   },
   "outputs": [],
   "source": [
    "map2$setTemplate(chartDiv=\"\n",
    "    <div class='container'>\n",
    "        <input id='slider' type='range' min=1983 max=2015 ng-model='year' width=200>\n",
    "        <span ng-bind='year'</span>\n",
    "        <div id='' class='rChart datamaps'></div>\n",
    "        <script>\n",
    "            function rChartsCtrl($scope){\n",
    "                $scope.year=1083;\n",
    "                $scope.$watch('year', function(newYear)){\n",
    "                    map.updateChoropleth(chartParams.newData[newYear]);\n",
    "        })\n",
    "    }\n",
    "    </script>\"                \n",
    ")"
   ]
  },
  {
   "cell_type": "code",
   "execution_count": 14,
   "metadata": {
    "collapsed": false
   },
   "outputs": [
    {
     "ename": "ERROR",
     "evalue": "Error in stopifnot(is.list(x), is.list(val)): object 'clean_dat_disp' not found\n",
     "output_type": "error",
     "traceback": [
      "Error in stopifnot(is.list(x), is.list(val)): object 'clean_dat_disp' not found\n"
     ]
    }
   ],
   "source": [
    "map2$set(newData=clean_dat_disp)\n",
    "map2"
   ]
  },
  {
   "cell_type": "code",
   "execution_count": 15,
   "metadata": {
    "collapsed": false,
    "scrolled": true
   },
   "outputs": [
    {
     "name": "stderr",
     "output_type": "stream",
     "text": [
      "\n",
      "Attaching package: ‘rCharts’\n",
      "\n",
      "The following objects are masked from ‘package:rMaps’:\n",
      "\n",
      "    Datamaps, Leaflet, makeChoroData, processChoroData, rqMap\n",
      "\n"
     ]
    }
   ],
   "source": [
    "library(rMaps)\n",
    "library(rCharts)\n",
    "\n",
    "ichoropleth <- function(x, data, pal, ncuts, animate, play, map, legend = TRUE, \n",
    "                        labels = TRUE, ...){\n",
    "  d <- Datamaps$new()\n",
    "  fml = lattice::latticeParseFormula(x, data = data)\n",
    "  data = transform(data, \n",
    "    fillKey = cut(\n",
    "      fml$left, \n",
    "      quantile(fml$left, seq(0, 1, 1/ncuts)),\n",
    "      ordered_result = TRUE\n",
    "    )\n",
    "  )\n",
    "  fillColors = RColorBrewer::brewer.pal(ncuts, pal)\n",
    "  d$set(\n",
    "    scope = map, \n",
    "    fills = as.list(setNames(fillColors, levels(data$fillKey))), \n",
    "    legend = legend,\n",
    "    labels = labels,\n",
    "    ...  \n",
    "  ) \n",
    "if (!is.null(animate)){\n",
    "    range_ = summary(data[[animate]])\n",
    "    data = dlply(data, animate, function(x){\n",
    "      y = toJSONArray2(x, json = F)\n",
    "      names(y) = lapply(y, '[[', fml$right.name)\n",
    "      return(y)\n",
    "    })\n",
    "    d$set(\n",
    "      bodyattrs = \"ng-app ng-controller='rChartsCtrl'\"  \n",
    "    )\n",
    "    d$addAssets(\n",
    "      jshead = \"http://cdnjs.cloudflare.com/ajax/libs/angular.js/1.2.1/angular.min.js\"\n",
    "    )\n",
    "    if (play == T){\n",
    "      d$setTemplate(chartDiv = sprintf(\"\n",
    "        <div class='container'>\n",
    "         <button ng-click='animateMap()'>Play</button>\n",
    "         <div id='{{chartId}}' class='rChart datamaps'></div>  \n",
    "        </div>\n",
    "        <script>\n",
    "          function rChartsCtrl($scope, $timeout){\n",
    "            $scope.year = %s;\n",
    "              $scope.animateMap = function(){\n",
    "              if ($scope.year > %s){\n",
    "                return;\n",
    "              }\n",
    "              map{{chartId}}.updateChoropleth(chartParams.newData[$scope.year]);\n",
    "              $scope.year += 1\n",
    "              $timeout($scope.animateMap, 1000)\n",
    "            }\n",
    "          }\n",
    "       </script>\", range_[1], range_[6])\n",
    "      )\n",
    "      \n",
    "    } else {\n",
    "      d$setTemplate(chartDiv = sprintf(\"\n",
    "        <div class='container'>\n",
    "          <input id='slider' type='range' min=%s max=%s ng-model='year' width=200>\n",
    "          <div id='{{chartId}}' class='rChart datamaps'></div>  \n",
    "        </div>\n",
    "        <script>\n",
    "          function rChartsCtrl($scope){\n",
    "            $scope.year = %s;\n",
    "            $scope.$watch('year', function(newYear){\n",
    "              map{{chartId}}.updateChoropleth(chartParams.newData[newYear]);\n",
    "            })\n",
    "          }\n",
    "       </script>\", range_[1], range_[6], range_[1])\n",
    "      )\n",
    "    }\n",
    "    d$set(newData = data, data = data[[1]])\n",
    "    \n",
    "  } else {\n",
    "    d$set(data = dlply(data, fml$right.name))\n",
    "  }\n",
    "  return(d)\n",
    "}"
   ]
  },
  {
   "cell_type": "code",
   "execution_count": 16,
   "metadata": {
    "collapsed": false
   },
   "outputs": [],
   "source": [
    "ichoropleth(stunting ~ ISO_country, data=clean_dat, pal=\"Blues\", animate=\"Year\", ncuts=5,\n",
    "            play=T, map='world')"
   ]
  },
  {
   "cell_type": "code",
   "execution_count": null,
   "metadata": {
    "collapsed": false
   },
   "outputs": [],
   "source": []
  },
  {
   "cell_type": "code",
   "execution_count": null,
   "metadata": {
    "collapsed": true
   },
   "outputs": [],
   "source": []
  }
 ],
 "metadata": {
  "kernelspec": {
   "display_name": "R",
   "language": "R",
   "name": "ir"
  },
  "language_info": {
   "codemirror_mode": "r",
   "file_extension": ".r",
   "mimetype": "text/x-r-source",
   "name": "R",
   "pygments_lexer": "r",
   "version": "3.3.1"
  }
 },
 "nbformat": 4,
 "nbformat_minor": 0
}
